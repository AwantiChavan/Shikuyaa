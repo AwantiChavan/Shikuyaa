{
  "nbformat": 4,
  "nbformat_minor": 0,
  "metadata": {
    "colab": {
      "name": "Shikuyaa.ipynb",
      "provenance": [],
      "authorship_tag": "ABX9TyMFe1CadOCtkYBUFSc5OY0q",
      "include_colab_link": true
    },
    "kernelspec": {
      "name": "python3",
      "display_name": "Python 3"
    },
    "language_info": {
      "name": "python"
    }
  },
  "cells": [
    {
      "cell_type": "markdown",
      "metadata": {
        "id": "view-in-github",
        "colab_type": "text"
      },
      "source": [
        "<a href=\"https://colab.research.google.com/github/AwantiChavan/Shikuyaa/blob/main/Shikuyaa.ipynb\" target=\"_parent\"><img src=\"https://colab.research.google.com/assets/colab-badge.svg\" alt=\"Open In Colab\"/></a>"
      ]
    },
    {
      "cell_type": "code",
      "metadata": {
        "colab": {
          "base_uri": "https://localhost:8080/"
        },
        "id": "Y4tOsvBp9nsj",
        "outputId": "799a9d58-d389-4b18-d7f1-d1ce33572909"
      },
      "source": [
        "1 + 1"
      ],
      "execution_count": 2,
      "outputs": [
        {
          "output_type": "execute_result",
          "data": {
            "text/plain": [
              "2"
            ]
          },
          "metadata": {
            "tags": []
          },
          "execution_count": 2
        }
      ]
    },
    {
      "cell_type": "code",
      "metadata": {
        "colab": {
          "base_uri": "https://localhost:8080/"
        },
        "id": "96tfhLgtBs9f",
        "outputId": "82fdb5df-1d9a-416b-83e1-a5c0091af3eb"
      },
      "source": [
        "3*6547"
      ],
      "execution_count": 3,
      "outputs": [
        {
          "output_type": "execute_result",
          "data": {
            "text/plain": [
              "19641"
            ]
          },
          "metadata": {
            "tags": []
          },
          "execution_count": 3
        }
      ]
    },
    {
      "cell_type": "code",
      "metadata": {
        "colab": {
          "base_uri": "https://localhost:8080/"
        },
        "id": "7eR8eFG_Bxsn",
        "outputId": "2fc7f444-bb8a-4168-de3b-2875f45fa1b0"
      },
      "source": [
        "# Write a program to find area of triangle\n",
        "\n",
        "base = 1.25\n",
        "height = 6.12\n",
        "area = 0.5 * base * height\n",
        "print(\"The area of Triangle is \",area)\n",
        "print(\"The area of Triangle with base = \", base, \"and height = \", height, \"is: \", area)"
      ],
      "execution_count": 5,
      "outputs": [
        {
          "output_type": "stream",
          "text": [
            "The area of Triangle is  3.825\n",
            "The area of Triangle with base =  1.25 and height =  6.12 is:  3.825\n"
          ],
          "name": "stdout"
        }
      ]
    },
    {
      "cell_type": "code",
      "metadata": {
        "colab": {
          "base_uri": "https://localhost:8080/"
        },
        "id": "mcC1e_hwFGKC",
        "outputId": "207f8739-5766-471a-c0b7-d807da5a0fe1"
      },
      "source": [
        "name = \"Awanti\"\n",
        "print(name)"
      ],
      "execution_count": 6,
      "outputs": [
        {
          "output_type": "stream",
          "text": [
            "Awanti\n"
          ],
          "name": "stdout"
        }
      ]
    },
    {
      "cell_type": "code",
      "metadata": {
        "colab": {
          "base_uri": "https://localhost:8080/"
        },
        "id": "bLsGTvZ6FPUL",
        "outputId": "54f08920-ab7f-4b05-8a07-6a3c19e36719"
      },
      "source": [
        "type(name)"
      ],
      "execution_count": 7,
      "outputs": [
        {
          "output_type": "execute_result",
          "data": {
            "text/plain": [
              "str"
            ]
          },
          "metadata": {
            "tags": []
          },
          "execution_count": 7
        }
      ]
    },
    {
      "cell_type": "code",
      "metadata": {
        "colab": {
          "base_uri": "https://localhost:8080/"
        },
        "id": "TVDW6YGkFT1S",
        "outputId": "5420cd5a-e3ff-4d2d-c096-fb54be318b0f"
      },
      "source": [
        "name = 100\n",
        "type(name)"
      ],
      "execution_count": 8,
      "outputs": [
        {
          "output_type": "execute_result",
          "data": {
            "text/plain": [
              "int"
            ]
          },
          "metadata": {
            "tags": []
          },
          "execution_count": 8
        }
      ]
    },
    {
      "cell_type": "code",
      "metadata": {
        "colab": {
          "base_uri": "https://localhost:8080/"
        },
        "id": "E1d_gLSdFahE",
        "outputId": "a1da4cbb-cbae-4626-b925-fbe05b1575b9"
      },
      "source": [
        "name = 3.865j\n",
        "print(name)"
      ],
      "execution_count": 9,
      "outputs": [
        {
          "output_type": "stream",
          "text": [
            "3.865j\n"
          ],
          "name": "stdout"
        }
      ]
    },
    {
      "cell_type": "code",
      "metadata": {
        "colab": {
          "base_uri": "https://localhost:8080/"
        },
        "id": "pi1tJ7EiFmy4",
        "outputId": "dedccaf5-057d-4058-fee2-d9686996f1dc"
      },
      "source": [
        "name = input()\n",
        "print(\"Name entered is: \", name)"
      ],
      "execution_count": 10,
      "outputs": [
        {
          "output_type": "stream",
          "text": [
            "Awanti\n",
            "Name entered is:  Awanti\n"
          ],
          "name": "stdout"
        }
      ]
    },
    {
      "cell_type": "code",
      "metadata": {
        "colab": {
          "base_uri": "https://localhost:8080/"
        },
        "id": "KYAGANYpGE2N",
        "outputId": "f78381a9-6e30-4ce1-b2e5-eabf28903782"
      },
      "source": [
        "a = 2\n",
        "b = 5\n",
        "c = a + b\n",
        "print(c)"
      ],
      "execution_count": 11,
      "outputs": [
        {
          "output_type": "stream",
          "text": [
            "7\n"
          ],
          "name": "stdout"
        }
      ]
    },
    {
      "cell_type": "code",
      "metadata": {
        "colab": {
          "base_uri": "https://localhost:8080/"
        },
        "id": "yuICgz06GQ0Q",
        "outputId": "7af39fad-8b52-47b4-906f-8cc81d3c009c"
      },
      "source": [
        "a = input(\"Enter first number: \")\n",
        "b = input(\"Enter second number: \")\n",
        "c = a + b\n",
        "print(c) "
      ],
      "execution_count": 12,
      "outputs": [
        {
          "output_type": "stream",
          "text": [
            "Enter first number: 2\n",
            "Enter second number: 5\n",
            "25\n"
          ],
          "name": "stdout"
        }
      ]
    },
    {
      "cell_type": "code",
      "metadata": {
        "colab": {
          "base_uri": "https://localhost:8080/"
        },
        "id": "Rykm9kG6GxJG",
        "outputId": "f97443a5-c934-42c1-8800-bc7ee36d308c"
      },
      "source": [
        "#Typecascating\n",
        "\n",
        "a = float(input(\"Enter first number: \"))\n",
        "b = float(input(\"Enter second number: \"))\n",
        "c = a + b\n",
        "print(c)"
      ],
      "execution_count": 13,
      "outputs": [
        {
          "output_type": "stream",
          "text": [
            "Enter first number: 2\n",
            "Enter second number: 5\n",
            "7.0\n"
          ],
          "name": "stdout"
        }
      ]
    },
    {
      "cell_type": "code",
      "metadata": {
        "colab": {
          "base_uri": "https://localhost:8080/"
        },
        "id": "q0pVAHJ7WzL2",
        "outputId": "b7bdf13f-f176-4590-c7ff-90c70a06f4c8"
      },
      "source": [
        "# Write a program to find the largest number\n",
        "\n",
        "a = int(input(\"Enter the first number: \"))\n",
        "b = int(input(\"Enter second number: \"))\n",
        "c = int(input(\"Enter third number: \"))\n",
        "\n",
        "if a>b:\n",
        "  if a>c:\n",
        "    print(a, \"is largest\")\n",
        "  else:\n",
        "    print(c, \"is largest\")\n",
        "elif b>c:\n",
        "    print(b,\"is the largest\")"
      ],
      "execution_count": 17,
      "outputs": [
        {
          "output_type": "stream",
          "text": [
            "Enter the first number: 1\n",
            "Enter second number: 2\n",
            "Enter third number: 3\n"
          ],
          "name": "stdout"
        }
      ]
    }
  ]
}